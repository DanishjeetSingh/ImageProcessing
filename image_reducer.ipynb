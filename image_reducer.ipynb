version https://git-lfs.github.com/spec/v1
oid sha256:c5ce6e7e70a0aea076e7853285344c7958958a33ef866a8fb4293c1a18c433d5
size 26562
